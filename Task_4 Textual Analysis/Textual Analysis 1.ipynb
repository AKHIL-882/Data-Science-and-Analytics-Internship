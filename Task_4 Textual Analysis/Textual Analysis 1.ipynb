{
  "nbformat": 4,
  "nbformat_minor": 0,
  "metadata": {
    "colab": {
      "name": "DataScience: Task-4_Part_1.ipynb",
      "provenance": [],
      "authorship_tag": "ABX9TyOllX6/3Ow/OStBwZLmxt5L",
      "include_colab_link": true
    },
    "kernelspec": {
      "name": "python3",
      "display_name": "Python 3"
    }
  },
  "cells": [
    {
      "cell_type": "markdown",
      "metadata": {
        "id": "view-in-github",
        "colab_type": "text"
      },
      "source": [
        "<a href=\"https://colab.research.google.com/github/AKHIL-882/Data-Science-Internship/blob/main/DataScience_Task_4_Sentimental%20Analysis.ipynb\" target=\"_parent\"><img src=\"https://colab.research.google.com/assets/colab-badge.svg\" alt=\"Open In Colab\"/></a>"
      ]
    },
    {
      "cell_type": "markdown",
      "metadata": {
        "id": "AN0SXdiIv5eT"
      },
      "source": [
        "## **Sentimental Analysis of News HeadLines**"
      ]
    },
    {
      "cell_type": "markdown",
      "metadata": {
        "id": "byA84oKjwHJS"
      },
      "source": [
        "**Aim: To perform sentimental analysis of news headlines**"
      ]
    },
    {
      "cell_type": "markdown",
      "metadata": {
        "id": "fyEy8R_8wQG9"
      },
      "source": [
        "### **Importing the Required Libraries**"
      ]
    },
    {
      "cell_type": "code",
      "metadata": {
        "id": "ZJYH9SY3vv9L"
      },
      "source": [
        "import pandas as pd\n",
        "import numpy as np\n",
        "from textblob import TextBlob\n",
        "import matplotlib.pyplot as plt        #Visualisation\n",
        "import seaborn as sns                  #Visualisation\n",
        "%matplotlib inline\n"
      ],
      "execution_count": 1,
      "outputs": []
    },
    {
      "cell_type": "markdown",
      "metadata": {
        "id": "_tbfbpJsxbcq"
      },
      "source": [
        "**Reading dataset directly from google and\n",
        "Printing the first 5 rows of the dataset**"
      ]
    },
    {
      "cell_type": "code",
      "metadata": {
        "id": "LgbfU_CNwe7L",
        "outputId": "52db15fc-dd0b-4213-ce47-99004207f286",
        "colab": {
          "base_uri": "https://localhost:8080/",
          "height": 195
        }
      },
      "source": [
        "\n",
        "dataset = pd.read_csv('https://dataverse.harvard.edu/api/access/datafile/:persistentId?persistentId=doi:10.7910/DVN/DPQMQH/P2Z4PM')\n",
        "dataset.head()"
      ],
      "execution_count": 2,
      "outputs": [
        {
          "output_type": "execute_result",
          "data": {
            "text/html": [
              "<div>\n",
              "<style scoped>\n",
              "    .dataframe tbody tr th:only-of-type {\n",
              "        vertical-align: middle;\n",
              "    }\n",
              "\n",
              "    .dataframe tbody tr th {\n",
              "        vertical-align: top;\n",
              "    }\n",
              "\n",
              "    .dataframe thead th {\n",
              "        text-align: right;\n",
              "    }\n",
              "</style>\n",
              "<table border=\"1\" class=\"dataframe\">\n",
              "  <thead>\n",
              "    <tr style=\"text-align: right;\">\n",
              "      <th></th>\n",
              "      <th>publish_date</th>\n",
              "      <th>headline_category</th>\n",
              "      <th>headline_text</th>\n",
              "    </tr>\n",
              "  </thead>\n",
              "  <tbody>\n",
              "    <tr>\n",
              "      <th>0</th>\n",
              "      <td>20010101</td>\n",
              "      <td>sports.wwe</td>\n",
              "      <td>win over cena satisfying but defeating underta...</td>\n",
              "    </tr>\n",
              "    <tr>\n",
              "      <th>1</th>\n",
              "      <td>20010102</td>\n",
              "      <td>unknown</td>\n",
              "      <td>Status quo will not be disturbed at Ayodhya; s...</td>\n",
              "    </tr>\n",
              "    <tr>\n",
              "      <th>2</th>\n",
              "      <td>20010102</td>\n",
              "      <td>unknown</td>\n",
              "      <td>Fissures in Hurriyat over Pak visit</td>\n",
              "    </tr>\n",
              "    <tr>\n",
              "      <th>3</th>\n",
              "      <td>20010102</td>\n",
              "      <td>unknown</td>\n",
              "      <td>America's unwanted heading for India?</td>\n",
              "    </tr>\n",
              "    <tr>\n",
              "      <th>4</th>\n",
              "      <td>20010102</td>\n",
              "      <td>unknown</td>\n",
              "      <td>For bigwigs; it is destination Goa</td>\n",
              "    </tr>\n",
              "  </tbody>\n",
              "</table>\n",
              "</div>"
            ],
            "text/plain": [
              "   publish_date  ...                                      headline_text\n",
              "0      20010101  ...  win over cena satisfying but defeating underta...\n",
              "1      20010102  ...  Status quo will not be disturbed at Ayodhya; s...\n",
              "2      20010102  ...                Fissures in Hurriyat over Pak visit\n",
              "3      20010102  ...              America's unwanted heading for India?\n",
              "4      20010102  ...                 For bigwigs; it is destination Goa\n",
              "\n",
              "[5 rows x 3 columns]"
            ]
          },
          "metadata": {
            "tags": []
          },
          "execution_count": 2
        }
      ]
    },
    {
      "cell_type": "markdown",
      "metadata": {
        "id": "EtyV1zF5x1WV"
      },
      "source": [
        "**Printing the last 5 rows of the dataset**"
      ]
    },
    {
      "cell_type": "code",
      "metadata": {
        "id": "He7iLbrSwvEi",
        "outputId": "0c2296cc-57cd-4e8b-a078-a7c1ef068bcd",
        "colab": {
          "base_uri": "https://localhost:8080/",
          "height": 195
        }
      },
      "source": [
        "dataset.tail()"
      ],
      "execution_count": 3,
      "outputs": [
        {
          "output_type": "execute_result",
          "data": {
            "text/html": [
              "<div>\n",
              "<style scoped>\n",
              "    .dataframe tbody tr th:only-of-type {\n",
              "        vertical-align: middle;\n",
              "    }\n",
              "\n",
              "    .dataframe tbody tr th {\n",
              "        vertical-align: top;\n",
              "    }\n",
              "\n",
              "    .dataframe thead th {\n",
              "        text-align: right;\n",
              "    }\n",
              "</style>\n",
              "<table border=\"1\" class=\"dataframe\">\n",
              "  <thead>\n",
              "    <tr style=\"text-align: right;\">\n",
              "      <th></th>\n",
              "      <th>publish_date</th>\n",
              "      <th>headline_category</th>\n",
              "      <th>headline_text</th>\n",
              "    </tr>\n",
              "  </thead>\n",
              "  <tbody>\n",
              "    <tr>\n",
              "      <th>3297167</th>\n",
              "      <td>20200630</td>\n",
              "      <td>gadgets-news</td>\n",
              "      <td>why tiktok removed 1 65 crore videos in india</td>\n",
              "    </tr>\n",
              "    <tr>\n",
              "      <th>3297168</th>\n",
              "      <td>20200630</td>\n",
              "      <td>entertainment.hindi.bollywood</td>\n",
              "      <td>apurva asrani calls alia bhatts mother soni ra...</td>\n",
              "    </tr>\n",
              "    <tr>\n",
              "      <th>3297169</th>\n",
              "      <td>20200630</td>\n",
              "      <td>entertainment.hindi.bollywood</td>\n",
              "      <td>kangana ranaut gets a doll version of herself ...</td>\n",
              "    </tr>\n",
              "    <tr>\n",
              "      <th>3297170</th>\n",
              "      <td>20200630</td>\n",
              "      <td>entertainment.hindi.bollywood</td>\n",
              "      <td>meezaan jaffrey reminisces his childhood days ...</td>\n",
              "    </tr>\n",
              "    <tr>\n",
              "      <th>3297171</th>\n",
              "      <td>20200630</td>\n",
              "      <td>entertainment.telugu.movies.news</td>\n",
              "      <td>prabhas20 titled as radhe shyam prabhas and po...</td>\n",
              "    </tr>\n",
              "  </tbody>\n",
              "</table>\n",
              "</div>"
            ],
            "text/plain": [
              "         publish_date  ...                                      headline_text\n",
              "3297167      20200630  ...      why tiktok removed 1 65 crore videos in india\n",
              "3297168      20200630  ...  apurva asrani calls alia bhatts mother soni ra...\n",
              "3297169      20200630  ...  kangana ranaut gets a doll version of herself ...\n",
              "3297170      20200630  ...  meezaan jaffrey reminisces his childhood days ...\n",
              "3297171      20200630  ...  prabhas20 titled as radhe shyam prabhas and po...\n",
              "\n",
              "[5 rows x 3 columns]"
            ]
          },
          "metadata": {
            "tags": []
          },
          "execution_count": 3
        }
      ]
    },
    {
      "cell_type": "markdown",
      "metadata": {
        "id": "YGaYvf-eyDIf"
      },
      "source": [
        "### **1. Exploratory Data Analysis - Checking the types of data and basic summary stats.**"
      ]
    },
    {
      "cell_type": "markdown",
      "metadata": {
        "id": "Atc9ELZryJgm"
      },
      "source": [
        "There are three features - **Publish Data, HeadLine Category and HeadLine Text**.The main aim is to do **sentimental analysis** of the news HeadLines."
      ]
    },
    {
      "cell_type": "markdown",
      "metadata": {
        "id": "C14RBCsHy17h"
      },
      "source": [
        "**1.1 Displaying datatype of each column and also display the non-null row**"
      ]
    },
    {
      "cell_type": "code",
      "metadata": {
        "id": "GdydVSbNx4vp",
        "outputId": "b0662b79-9c9d-4c78-9cd6-a4d7009a6900",
        "colab": {
          "base_uri": "https://localhost:8080/",
          "height": 185
        }
      },
      "source": [
        "dataset.info()"
      ],
      "execution_count": 4,
      "outputs": [
        {
          "output_type": "stream",
          "text": [
            "<class 'pandas.core.frame.DataFrame'>\n",
            "RangeIndex: 3297172 entries, 0 to 3297171\n",
            "Data columns (total 3 columns):\n",
            " #   Column             Dtype \n",
            "---  ------             ----- \n",
            " 0   publish_date       int64 \n",
            " 1   headline_category  object\n",
            " 2   headline_text      object\n",
            "dtypes: int64(1), object(2)\n",
            "memory usage: 75.5+ MB\n"
          ],
          "name": "stdout"
        }
      ]
    },
    {
      "cell_type": "markdown",
      "metadata": {
        "id": "VbmN8WR7zAXb"
      },
      "source": [
        "**Observation**: We can find that only the **publish_date is of integer type** where as **headline_category and headline_text are of object**"
      ]
    },
    {
      "cell_type": "markdown",
      "metadata": {
        "id": "7AxwoHgRzVDy"
      },
      "source": [
        "**1.2 Finding the categorical variables**"
      ]
    },
    {
      "cell_type": "code",
      "metadata": {
        "id": "knKPkcg-y9UA",
        "outputId": "135249b6-90f7-4430-964f-940fb833a384",
        "colab": {
          "base_uri": "https://localhost:8080/",
          "height": 218
        }
      },
      "source": [
        "dataset['headline_category'].value_counts()"
      ],
      "execution_count": 5,
      "outputs": [
        {
          "output_type": "execute_result",
          "data": {
            "text/plain": [
              "india                      285619\n",
              "unknown                    207732\n",
              "city.mumbai                132649\n",
              "city.delhi                 124658\n",
              "business.india-business    115246\n",
              "                            ...  \n",
              "ballot-talk                     7\n",
              "sports.headline3                7\n",
              "did-you-know                    6\n",
              "sports.headline6                3\n",
              "party-manifestos                2\n",
              "Name: headline_category, Length: 1016, dtype: int64"
            ]
          },
          "metadata": {
            "tags": []
          },
          "execution_count": 5
        }
      ]
    },
    {
      "cell_type": "markdown",
      "metadata": {
        "id": "XVByR1LEzrcr"
      },
      "source": [
        "**1.3 Dividing the news based on cities**"
      ]
    },
    {
      "cell_type": "code",
      "metadata": {
        "id": "HyEtg53Lzb-m",
        "outputId": "c59db71b-d4d1-44aa-870c-16b97e7ab754",
        "colab": {
          "base_uri": "https://localhost:8080/",
          "height": 402
        }
      },
      "source": [
        "city_vise = dataset[dataset['headline_category'].str.contains('^city\\.[a-z]+$', regex=True\n",
        "                                                               )]\n",
        "city_vise"
      ],
      "execution_count": 6,
      "outputs": [
        {
          "output_type": "execute_result",
          "data": {
            "text/html": [
              "<div>\n",
              "<style scoped>\n",
              "    .dataframe tbody tr th:only-of-type {\n",
              "        vertical-align: middle;\n",
              "    }\n",
              "\n",
              "    .dataframe tbody tr th {\n",
              "        vertical-align: top;\n",
              "    }\n",
              "\n",
              "    .dataframe thead th {\n",
              "        text-align: right;\n",
              "    }\n",
              "</style>\n",
              "<table border=\"1\" class=\"dataframe\">\n",
              "  <thead>\n",
              "    <tr style=\"text-align: right;\">\n",
              "      <th></th>\n",
              "      <th>publish_date</th>\n",
              "      <th>headline_category</th>\n",
              "      <th>headline_text</th>\n",
              "    </tr>\n",
              "  </thead>\n",
              "  <tbody>\n",
              "    <tr>\n",
              "      <th>274</th>\n",
              "      <td>20010104</td>\n",
              "      <td>city.bengaluru</td>\n",
              "      <td>Three in race for chief secy's post</td>\n",
              "    </tr>\n",
              "    <tr>\n",
              "      <th>275</th>\n",
              "      <td>20010104</td>\n",
              "      <td>city.patna</td>\n",
              "      <td>Druggists' stir leads to shortage of medicines</td>\n",
              "    </tr>\n",
              "    <tr>\n",
              "      <th>278</th>\n",
              "      <td>20010104</td>\n",
              "      <td>city.bengaluru</td>\n",
              "      <td>He's not so inscrutable</td>\n",
              "    </tr>\n",
              "    <tr>\n",
              "      <th>279</th>\n",
              "      <td>20010104</td>\n",
              "      <td>city.delhi</td>\n",
              "      <td>DPCC stages Nyay rally</td>\n",
              "    </tr>\n",
              "    <tr>\n",
              "      <th>643</th>\n",
              "      <td>20010110</td>\n",
              "      <td>city.patna</td>\n",
              "      <td>Fend for yourselves; Pande tells doctors</td>\n",
              "    </tr>\n",
              "    <tr>\n",
              "      <th>...</th>\n",
              "      <td>...</td>\n",
              "      <td>...</td>\n",
              "      <td>...</td>\n",
              "    </tr>\n",
              "    <tr>\n",
              "      <th>3297139</th>\n",
              "      <td>20200630</td>\n",
              "      <td>city.delhi</td>\n",
              "      <td>Remove illegal signage or face penalty: NDMC</td>\n",
              "    </tr>\n",
              "    <tr>\n",
              "      <th>3297158</th>\n",
              "      <td>20200630</td>\n",
              "      <td>city.bengaluru</td>\n",
              "      <td>what bengaluru can do to tackle covid surge</td>\n",
              "    </tr>\n",
              "    <tr>\n",
              "      <th>3297161</th>\n",
              "      <td>20200630</td>\n",
              "      <td>city.bengaluru</td>\n",
              "      <td>karnataka may adopt keralas triple lockdown plan</td>\n",
              "    </tr>\n",
              "    <tr>\n",
              "      <th>3297162</th>\n",
              "      <td>20200630</td>\n",
              "      <td>city.kanpur</td>\n",
              "      <td>vehicle of up stf team bringing gangster vikas...</td>\n",
              "    </tr>\n",
              "    <tr>\n",
              "      <th>3297166</th>\n",
              "      <td>20200630</td>\n",
              "      <td>city.lucknow</td>\n",
              "      <td>up govt imposes weekend restrictions from tonight</td>\n",
              "    </tr>\n",
              "  </tbody>\n",
              "</table>\n",
              "<p>1842288 rows × 3 columns</p>\n",
              "</div>"
            ],
            "text/plain": [
              "         publish_date  ...                                      headline_text\n",
              "274          20010104  ...                Three in race for chief secy's post\n",
              "275          20010104  ...     Druggists' stir leads to shortage of medicines\n",
              "278          20010104  ...                            He's not so inscrutable\n",
              "279          20010104  ...                             DPCC stages Nyay rally\n",
              "643          20010110  ...           Fend for yourselves; Pande tells doctors\n",
              "...               ...  ...                                                ...\n",
              "3297139      20200630  ...       Remove illegal signage or face penalty: NDMC\n",
              "3297158      20200630  ...        what bengaluru can do to tackle covid surge\n",
              "3297161      20200630  ...   karnataka may adopt keralas triple lockdown plan\n",
              "3297162      20200630  ...  vehicle of up stf team bringing gangster vikas...\n",
              "3297166      20200630  ...  up govt imposes weekend restrictions from tonight\n",
              "\n",
              "[1842288 rows x 3 columns]"
            ]
          },
          "metadata": {
            "tags": []
          },
          "execution_count": 6
        }
      ]
    },
    {
      "cell_type": "markdown",
      "metadata": {
        "id": "pPmIjc730FRG"
      },
      "source": [
        "**Observation**: Now we have split the dataset based on cities for easy analysis"
      ]
    },
    {
      "cell_type": "markdown",
      "metadata": {
        "id": "lOYz1TWA0U4g"
      },
      "source": [
        "**1.4 Seperating city name from dataset**"
      ]
    },
    {
      "cell_type": "code",
      "metadata": {
        "id": "aiZ2va8k0CFk"
      },
      "source": [
        "city = pd.DataFrame(columns=['city_name'])"
      ],
      "execution_count": 7,
      "outputs": []
    },
    {
      "cell_type": "code",
      "metadata": {
        "id": "u7qTQ0em0lnK"
      },
      "source": [
        "city['city_name'] = city_vise.headline_category.str.split('.',expand=True)[1]"
      ],
      "execution_count": 8,
      "outputs": []
    },
    {
      "cell_type": "code",
      "metadata": {
        "id": "gac-bMyr0pYY"
      },
      "source": [
        "city_vise = pd.concat([city_vise,city],axis = 1)"
      ],
      "execution_count": 9,
      "outputs": []
    },
    {
      "cell_type": "code",
      "metadata": {
        "id": "R5w6pmKM137w"
      },
      "source": [
        "city_vise.drop(columns=['headline_category'],axis=1,inplace=True)"
      ],
      "execution_count": 10,
      "outputs": []
    },
    {
      "cell_type": "code",
      "metadata": {
        "id": "qF63VpKI1_0U"
      },
      "source": [
        "city_vise.reset_index(inplace = True)"
      ],
      "execution_count": 11,
      "outputs": []
    },
    {
      "cell_type": "code",
      "metadata": {
        "id": "KuQDW1dY2EPx",
        "outputId": "b14baef6-a777-40cd-c0b0-bacfb1f8b3e4",
        "colab": {
          "base_uri": "https://localhost:8080/",
          "height": 195
        }
      },
      "source": [
        "city_vise.head()"
      ],
      "execution_count": 12,
      "outputs": [
        {
          "output_type": "execute_result",
          "data": {
            "text/html": [
              "<div>\n",
              "<style scoped>\n",
              "    .dataframe tbody tr th:only-of-type {\n",
              "        vertical-align: middle;\n",
              "    }\n",
              "\n",
              "    .dataframe tbody tr th {\n",
              "        vertical-align: top;\n",
              "    }\n",
              "\n",
              "    .dataframe thead th {\n",
              "        text-align: right;\n",
              "    }\n",
              "</style>\n",
              "<table border=\"1\" class=\"dataframe\">\n",
              "  <thead>\n",
              "    <tr style=\"text-align: right;\">\n",
              "      <th></th>\n",
              "      <th>index</th>\n",
              "      <th>publish_date</th>\n",
              "      <th>headline_text</th>\n",
              "      <th>city_name</th>\n",
              "    </tr>\n",
              "  </thead>\n",
              "  <tbody>\n",
              "    <tr>\n",
              "      <th>0</th>\n",
              "      <td>274</td>\n",
              "      <td>20010104</td>\n",
              "      <td>Three in race for chief secy's post</td>\n",
              "      <td>bengaluru</td>\n",
              "    </tr>\n",
              "    <tr>\n",
              "      <th>1</th>\n",
              "      <td>275</td>\n",
              "      <td>20010104</td>\n",
              "      <td>Druggists' stir leads to shortage of medicines</td>\n",
              "      <td>patna</td>\n",
              "    </tr>\n",
              "    <tr>\n",
              "      <th>2</th>\n",
              "      <td>278</td>\n",
              "      <td>20010104</td>\n",
              "      <td>He's not so inscrutable</td>\n",
              "      <td>bengaluru</td>\n",
              "    </tr>\n",
              "    <tr>\n",
              "      <th>3</th>\n",
              "      <td>279</td>\n",
              "      <td>20010104</td>\n",
              "      <td>DPCC stages Nyay rally</td>\n",
              "      <td>delhi</td>\n",
              "    </tr>\n",
              "    <tr>\n",
              "      <th>4</th>\n",
              "      <td>643</td>\n",
              "      <td>20010110</td>\n",
              "      <td>Fend for yourselves; Pande tells doctors</td>\n",
              "      <td>patna</td>\n",
              "    </tr>\n",
              "  </tbody>\n",
              "</table>\n",
              "</div>"
            ],
            "text/plain": [
              "   index  ...  city_name\n",
              "0    274  ...  bengaluru\n",
              "1    275  ...      patna\n",
              "2    278  ...  bengaluru\n",
              "3    279  ...      delhi\n",
              "4    643  ...      patna\n",
              "\n",
              "[5 rows x 4 columns]"
            ]
          },
          "metadata": {
            "tags": []
          },
          "execution_count": 12
        }
      ]
    },
    {
      "cell_type": "code",
      "metadata": {
        "id": "qMk4Q-1J2MQm",
        "outputId": "973a9a7e-d91b-4235-9ef5-ce4d4dff34e6",
        "colab": {
          "base_uri": "https://localhost:8080/",
          "height": 235
        }
      },
      "source": [
        "city_vise.city_name.unique()"
      ],
      "execution_count": 13,
      "outputs": [
        {
          "output_type": "execute_result",
          "data": {
            "text/plain": [
              "array(['bengaluru', 'patna', 'delhi', 'ahmedabad', 'thiruvananthapuram',\n",
              "       'pune', 'mumbai', 'chandigarh', 'lucknow', 'kolkata', 'hyderabad',\n",
              "       'chennai', 'bareilly', 'aurangabad', 'nagpur', 'bhopal',\n",
              "       'vadodara', 'jaipur', 'goa', 'thane', 'hubballi', 'mangaluru',\n",
              "       'mysuru', 'rajkot', 'surat', 'kanpur', 'varanasi', 'allahabad',\n",
              "       'ludhiana', 'guwahati', 'bhubaneswar', 'ranchi', 'gurgaon',\n",
              "       'coimbatore', 'noida', 'madurai', 'indore', 'kochi', 'kozhikode',\n",
              "       'nashik', 'raipur', 'visakhapatnam', 'kolhapur', 'navimumbai',\n",
              "       'trichy', 'puducherry', 'dehradun', 'meerut', 'agra', 'vijayawada',\n",
              "       'jamshedpur', 'imphal', 'shillong', 'amritsar', 'shimla',\n",
              "       'cuttack', 'jind', 'agartala', 'jammu', 'faridabad', 'srinagar',\n",
              "       'salem', 'rajahmundry', 'erode', 'ghaziabad', 'itanagar', 'ajmer',\n",
              "       'kohima', 'gaya', 'jodhpur', 'udaipur', 'amaravati'], dtype=object)"
            ]
          },
          "metadata": {
            "tags": []
          },
          "execution_count": 13
        }
      ]
    },
    {
      "cell_type": "markdown",
      "metadata": {
        "id": "H76OzzGB3VJH"
      },
      "source": [
        "**1.5 Finding the city with most headlines**"
      ]
    },
    {
      "cell_type": "code",
      "metadata": {
        "id": "XWz1q2YW2q5N"
      },
      "source": [
        "city_head = city_vise.groupby(['city_name']).agg({'headline_text':'count'})"
      ],
      "execution_count": 14,
      "outputs": []
    },
    {
      "cell_type": "code",
      "metadata": {
        "id": "emDgYWYF3oip",
        "outputId": "ef97365a-1935-48d9-afdc-113b00d976fd",
        "colab": {
          "base_uri": "https://localhost:8080/",
          "height": 373
        }
      },
      "source": [
        "city_headline_count = city_head.sort_values(by='headline_text',ascending=False)\n",
        "most_headline_city = city_headline_count.head(10)\n",
        "most_headline_city"
      ],
      "execution_count": 15,
      "outputs": [
        {
          "output_type": "execute_result",
          "data": {
            "text/html": [
              "<div>\n",
              "<style scoped>\n",
              "    .dataframe tbody tr th:only-of-type {\n",
              "        vertical-align: middle;\n",
              "    }\n",
              "\n",
              "    .dataframe tbody tr th {\n",
              "        vertical-align: top;\n",
              "    }\n",
              "\n",
              "    .dataframe thead th {\n",
              "        text-align: right;\n",
              "    }\n",
              "</style>\n",
              "<table border=\"1\" class=\"dataframe\">\n",
              "  <thead>\n",
              "    <tr style=\"text-align: right;\">\n",
              "      <th></th>\n",
              "      <th>headline_text</th>\n",
              "    </tr>\n",
              "    <tr>\n",
              "      <th>city_name</th>\n",
              "      <th></th>\n",
              "    </tr>\n",
              "  </thead>\n",
              "  <tbody>\n",
              "    <tr>\n",
              "      <th>mumbai</th>\n",
              "      <td>132649</td>\n",
              "    </tr>\n",
              "    <tr>\n",
              "      <th>delhi</th>\n",
              "      <td>124658</td>\n",
              "    </tr>\n",
              "    <tr>\n",
              "      <th>chandigarh</th>\n",
              "      <td>107464</td>\n",
              "    </tr>\n",
              "    <tr>\n",
              "      <th>hyderabad</th>\n",
              "      <td>99014</td>\n",
              "    </tr>\n",
              "    <tr>\n",
              "      <th>bengaluru</th>\n",
              "      <td>91857</td>\n",
              "    </tr>\n",
              "    <tr>\n",
              "      <th>ahmedabad</th>\n",
              "      <td>85813</td>\n",
              "    </tr>\n",
              "    <tr>\n",
              "      <th>pune</th>\n",
              "      <td>84620</td>\n",
              "    </tr>\n",
              "    <tr>\n",
              "      <th>lucknow</th>\n",
              "      <td>83591</td>\n",
              "    </tr>\n",
              "    <tr>\n",
              "      <th>kolkata</th>\n",
              "      <td>81298</td>\n",
              "    </tr>\n",
              "    <tr>\n",
              "      <th>nagpur</th>\n",
              "      <td>77300</td>\n",
              "    </tr>\n",
              "  </tbody>\n",
              "</table>\n",
              "</div>"
            ],
            "text/plain": [
              "            headline_text\n",
              "city_name                \n",
              "mumbai             132649\n",
              "delhi              124658\n",
              "chandigarh         107464\n",
              "hyderabad           99014\n",
              "bengaluru           91857\n",
              "ahmedabad           85813\n",
              "pune                84620\n",
              "lucknow             83591\n",
              "kolkata             81298\n",
              "nagpur              77300"
            ]
          },
          "metadata": {
            "tags": []
          },
          "execution_count": 15
        }
      ]
    },
    {
      "cell_type": "markdown",
      "metadata": {
        "id": "QQmGmQ4o4R5D"
      },
      "source": [
        "**1.6 Visualizing the headline count**"
      ]
    },
    {
      "cell_type": "code",
      "metadata": {
        "id": "gvkb6hx-31zT",
        "outputId": "82569e37-a25d-41be-f8c2-65fc3fc682b2",
        "colab": {
          "base_uri": "https://localhost:8080/",
          "height": 833
        }
      },
      "source": [
        "plt.figure(figsize=(20,12))\n",
        "plt.bar(most_headline_city.index,height=most_headline_city['headline_text'])\n",
        "plt.xticks(rotation = 45,fontsize=20)\n",
        "plt.yticks(rotation = 45,fontsize=20)\n",
        "plt.xlabel('Cities in India',fontsize=20)\n",
        "plt.ylabel('Number of Headlines',fontsize=20)\n",
        "plt.title('Number of Headlines per city',fontsize=20)\n",
        "plt.show()"
      ],
      "execution_count": 16,
      "outputs": [
        {
          "output_type": "display_data",
          "data": {
            "image/png": "[encoded data removed]",
            "text/plain": [
              "<Figure size 1440x864 with 1 Axes>"
            ]
          },
          "metadata": {
            "tags": [],
            "needs_background": "light"
          }
        }
      ]
    },
    {
      "cell_type": "markdown",
      "metadata": {
        "id": "2VGegzwf5MH5"
      },
      "source": [
        "**Observation**: We can find that **Mumbai** has highest headlines over the remaining countries followed by **Delhi** and **Chandigarh**"
      ]
    },
    {
      "cell_type": "markdown",
      "metadata": {
        "id": "pKrymvSp6I-S"
      },
      "source": [
        "### **2. Checking Year and Most coverage cities**"
      ]
    },
    {
      "cell_type": "markdown",
      "metadata": {
        "id": "xf1VrLiD6TQQ"
      },
      "source": [
        "**2.1 Converting the publish_data datatype as date time**"
      ]
    },
    {
      "cell_type": "code",
      "metadata": {
        "id": "jXwbf7Fd6Nfr",
        "outputId": "a882aa2d-a70a-4c74-9623-850c8af1dde4",
        "colab": {
          "base_uri": "https://localhost:8080/",
          "height": 195
        }
      },
      "source": [
        "city_vise['publish_date'] = pd.to_datetime(city_vise['publish_date'])\n",
        "city_vise.head()"
      ],
      "execution_count": 17,
      "outputs": [
        {
          "output_type": "execute_result",
          "data": {
            "text/html": [
              "<div>\n",
              "<style scoped>\n",
              "    .dataframe tbody tr th:only-of-type {\n",
              "        vertical-align: middle;\n",
              "    }\n",
              "\n",
              "    .dataframe tbody tr th {\n",
              "        vertical-align: top;\n",
              "    }\n",
              "\n",
              "    .dataframe thead th {\n",
              "        text-align: right;\n",
              "    }\n",
              "</style>\n",
              "<table border=\"1\" class=\"dataframe\">\n",
              "  <thead>\n",
              "    <tr style=\"text-align: right;\">\n",
              "      <th></th>\n",
              "      <th>index</th>\n",
              "      <th>publish_date</th>\n",
              "      <th>headline_text</th>\n",
              "      <th>city_name</th>\n",
              "    </tr>\n",
              "  </thead>\n",
              "  <tbody>\n",
              "    <tr>\n",
              "      <th>0</th>\n",
              "      <td>274</td>\n",
              "      <td>1970-01-01 00:00:00.020010104</td>\n",
              "      <td>Three in race for chief secy's post</td>\n",
              "      <td>bengaluru</td>\n",
              "    </tr>\n",
              "    <tr>\n",
              "      <th>1</th>\n",
              "      <td>275</td>\n",
              "      <td>1970-01-01 00:00:00.020010104</td>\n",
              "      <td>Druggists' stir leads to shortage of medicines</td>\n",
              "      <td>patna</td>\n",
              "    </tr>\n",
              "    <tr>\n",
              "      <th>2</th>\n",
              "      <td>278</td>\n",
              "      <td>1970-01-01 00:00:00.020010104</td>\n",
              "      <td>He's not so inscrutable</td>\n",
              "      <td>bengaluru</td>\n",
              "    </tr>\n",
              "    <tr>\n",
              "      <th>3</th>\n",
              "      <td>279</td>\n",
              "      <td>1970-01-01 00:00:00.020010104</td>\n",
              "      <td>DPCC stages Nyay rally</td>\n",
              "      <td>delhi</td>\n",
              "    </tr>\n",
              "    <tr>\n",
              "      <th>4</th>\n",
              "      <td>643</td>\n",
              "      <td>1970-01-01 00:00:00.020010110</td>\n",
              "      <td>Fend for yourselves; Pande tells doctors</td>\n",
              "      <td>patna</td>\n",
              "    </tr>\n",
              "  </tbody>\n",
              "</table>\n",
              "</div>"
            ],
            "text/plain": [
              "   index  ...  city_name\n",
              "0    274  ...  bengaluru\n",
              "1    275  ...      patna\n",
              "2    278  ...  bengaluru\n",
              "3    279  ...      delhi\n",
              "4    643  ...      patna\n",
              "\n",
              "[5 rows x 4 columns]"
            ]
          },
          "metadata": {
            "tags": []
          },
          "execution_count": 17
        }
      ]
    },
    {
      "cell_type": "markdown",
      "metadata": {
        "id": "5WBxLStE6lcn"
      },
      "source": [
        "**2.2 Extracting the Year**"
      ]
    },
    {
      "cell_type": "code",
      "metadata": {
        "id": "RpBlnQxI6hNu"
      },
      "source": [
        "city_vise['Year'] = city_vise['publish_date'].apply(lambda x: (x.microsecond)//10)"
      ],
      "execution_count": 18,
      "outputs": []
    },
    {
      "cell_type": "code",
      "metadata": {
        "id": "b5OMQwhS6wwS"
      },
      "source": [
        "city_vise.drop(columns=['publish_date','index'],axis=1,inplace=True)"
      ],
      "execution_count": 19,
      "outputs": []
    },
    {
      "cell_type": "code",
      "metadata": {
        "id": "WJwdIC4064qr",
        "outputId": "816c1276-b0fb-416e-e9d9-37addc6775a7",
        "colab": {
          "base_uri": "https://localhost:8080/",
          "height": 195
        }
      },
      "source": [
        "city_vise.head()"
      ],
      "execution_count": 20,
      "outputs": [
        {
          "output_type": "execute_result",
          "data": {
            "text/html": [
              "<div>\n",
              "<style scoped>\n",
              "    .dataframe tbody tr th:only-of-type {\n",
              "        vertical-align: middle;\n",
              "    }\n",
              "\n",
              "    .dataframe tbody tr th {\n",
              "        vertical-align: top;\n",
              "    }\n",
              "\n",
              "    .dataframe thead th {\n",
              "        text-align: right;\n",
              "    }\n",
              "</style>\n",
              "<table border=\"1\" class=\"dataframe\">\n",
              "  <thead>\n",
              "    <tr style=\"text-align: right;\">\n",
              "      <th></th>\n",
              "      <th>headline_text</th>\n",
              "      <th>city_name</th>\n",
              "      <th>Year</th>\n",
              "    </tr>\n",
              "  </thead>\n",
              "  <tbody>\n",
              "    <tr>\n",
              "      <th>0</th>\n",
              "      <td>Three in race for chief secy's post</td>\n",
              "      <td>bengaluru</td>\n",
              "      <td>2001</td>\n",
              "    </tr>\n",
              "    <tr>\n",
              "      <th>1</th>\n",
              "      <td>Druggists' stir leads to shortage of medicines</td>\n",
              "      <td>patna</td>\n",
              "      <td>2001</td>\n",
              "    </tr>\n",
              "    <tr>\n",
              "      <th>2</th>\n",
              "      <td>He's not so inscrutable</td>\n",
              "      <td>bengaluru</td>\n",
              "      <td>2001</td>\n",
              "    </tr>\n",
              "    <tr>\n",
              "      <th>3</th>\n",
              "      <td>DPCC stages Nyay rally</td>\n",
              "      <td>delhi</td>\n",
              "      <td>2001</td>\n",
              "    </tr>\n",
              "    <tr>\n",
              "      <th>4</th>\n",
              "      <td>Fend for yourselves; Pande tells doctors</td>\n",
              "      <td>patna</td>\n",
              "      <td>2001</td>\n",
              "    </tr>\n",
              "  </tbody>\n",
              "</table>\n",
              "</div>"
            ],
            "text/plain": [
              "                                    headline_text  city_name  Year\n",
              "0             Three in race for chief secy's post  bengaluru  2001\n",
              "1  Druggists' stir leads to shortage of medicines      patna  2001\n",
              "2                         He's not so inscrutable  bengaluru  2001\n",
              "3                          DPCC stages Nyay rally      delhi  2001\n",
              "4        Fend for yourselves; Pande tells doctors      patna  2001"
            ]
          },
          "metadata": {
            "tags": []
          },
          "execution_count": 20
        }
      ]
    },
    {
      "cell_type": "markdown",
      "metadata": {
        "id": "kL6AgEtv7rH0"
      },
      "source": [
        "**2.3 Creating a new column to count headlines**"
      ]
    },
    {
      "cell_type": "code",
      "metadata": {
        "id": "c--NmC0V7KfZ",
        "outputId": "8b5d57e2-d753-4711-9efb-7372fbdee1e5",
        "colab": {
          "base_uri": "https://localhost:8080/",
          "height": 195
        }
      },
      "source": [
        "city_vise_dup = city_vise.copy()\n",
        "city_vise_dup['Headlines Count'] = 1\n",
        "city_vise_dup.head()"
      ],
      "execution_count": 21,
      "outputs": [
        {
          "output_type": "execute_result",
          "data": {
            "text/html": [
              "<div>\n",
              "<style scoped>\n",
              "    .dataframe tbody tr th:only-of-type {\n",
              "        vertical-align: middle;\n",
              "    }\n",
              "\n",
              "    .dataframe tbody tr th {\n",
              "        vertical-align: top;\n",
              "    }\n",
              "\n",
              "    .dataframe thead th {\n",
              "        text-align: right;\n",
              "    }\n",
              "</style>\n",
              "<table border=\"1\" class=\"dataframe\">\n",
              "  <thead>\n",
              "    <tr style=\"text-align: right;\">\n",
              "      <th></th>\n",
              "      <th>headline_text</th>\n",
              "      <th>city_name</th>\n",
              "      <th>Year</th>\n",
              "      <th>Headlines Count</th>\n",
              "    </tr>\n",
              "  </thead>\n",
              "  <tbody>\n",
              "    <tr>\n",
              "      <th>0</th>\n",
              "      <td>Three in race for chief secy's post</td>\n",
              "      <td>bengaluru</td>\n",
              "      <td>2001</td>\n",
              "      <td>1</td>\n",
              "    </tr>\n",
              "    <tr>\n",
              "      <th>1</th>\n",
              "      <td>Druggists' stir leads to shortage of medicines</td>\n",
              "      <td>patna</td>\n",
              "      <td>2001</td>\n",
              "      <td>1</td>\n",
              "    </tr>\n",
              "    <tr>\n",
              "      <th>2</th>\n",
              "      <td>He's not so inscrutable</td>\n",
              "      <td>bengaluru</td>\n",
              "      <td>2001</td>\n",
              "      <td>1</td>\n",
              "    </tr>\n",
              "    <tr>\n",
              "      <th>3</th>\n",
              "      <td>DPCC stages Nyay rally</td>\n",
              "      <td>delhi</td>\n",
              "      <td>2001</td>\n",
              "      <td>1</td>\n",
              "    </tr>\n",
              "    <tr>\n",
              "      <th>4</th>\n",
              "      <td>Fend for yourselves; Pande tells doctors</td>\n",
              "      <td>patna</td>\n",
              "      <td>2001</td>\n",
              "      <td>1</td>\n",
              "    </tr>\n",
              "  </tbody>\n",
              "</table>\n",
              "</div>"
            ],
            "text/plain": [
              "                                    headline_text  ... Headlines Count\n",
              "0             Three in race for chief secy's post  ...               1\n",
              "1  Druggists' stir leads to shortage of medicines  ...               1\n",
              "2                         He's not so inscrutable  ...               1\n",
              "3                          DPCC stages Nyay rally  ...               1\n",
              "4        Fend for yourselves; Pande tells doctors  ...               1\n",
              "\n",
              "[5 rows x 4 columns]"
            ]
          },
          "metadata": {
            "tags": []
          },
          "execution_count": 21
        }
      ]
    },
    {
      "cell_type": "code",
      "metadata": {
        "id": "n8Yw-lDP79Eg",
        "outputId": "bef74f3f-2d60-4bec-9873-bc8972eb5dd5",
        "colab": {
          "base_uri": "https://localhost:8080/",
          "height": 225
        }
      },
      "source": [
        "most_headline_city.head()"
      ],
      "execution_count": 22,
      "outputs": [
        {
          "output_type": "execute_result",
          "data": {
            "text/html": [
              "<div>\n",
              "<style scoped>\n",
              "    .dataframe tbody tr th:only-of-type {\n",
              "        vertical-align: middle;\n",
              "    }\n",
              "\n",
              "    .dataframe tbody tr th {\n",
              "        vertical-align: top;\n",
              "    }\n",
              "\n",
              "    .dataframe thead th {\n",
              "        text-align: right;\n",
              "    }\n",
              "</style>\n",
              "<table border=\"1\" class=\"dataframe\">\n",
              "  <thead>\n",
              "    <tr style=\"text-align: right;\">\n",
              "      <th></th>\n",
              "      <th>headline_text</th>\n",
              "    </tr>\n",
              "    <tr>\n",
              "      <th>city_name</th>\n",
              "      <th></th>\n",
              "    </tr>\n",
              "  </thead>\n",
              "  <tbody>\n",
              "    <tr>\n",
              "      <th>mumbai</th>\n",
              "      <td>132649</td>\n",
              "    </tr>\n",
              "    <tr>\n",
              "      <th>delhi</th>\n",
              "      <td>124658</td>\n",
              "    </tr>\n",
              "    <tr>\n",
              "      <th>chandigarh</th>\n",
              "      <td>107464</td>\n",
              "    </tr>\n",
              "    <tr>\n",
              "      <th>hyderabad</th>\n",
              "      <td>99014</td>\n",
              "    </tr>\n",
              "    <tr>\n",
              "      <th>bengaluru</th>\n",
              "      <td>91857</td>\n",
              "    </tr>\n",
              "  </tbody>\n",
              "</table>\n",
              "</div>"
            ],
            "text/plain": [
              "            headline_text\n",
              "city_name                \n",
              "mumbai             132649\n",
              "delhi              124658\n",
              "chandigarh         107464\n",
              "hyderabad           99014\n",
              "bengaluru           91857"
            ]
          },
          "metadata": {
            "tags": []
          },
          "execution_count": 22
        }
      ]
    },
    {
      "cell_type": "code",
      "metadata": {
        "id": "t8_NsQ-g809P"
      },
      "source": [
        "city_vise_year_count = pd.Series(city_vise_dup.groupby(['Year'])['headline_text'].count())\n"
      ],
      "execution_count": 23,
      "outputs": []
    },
    {
      "cell_type": "code",
      "metadata": {
        "id": "QyOac0dF_FNt",
        "outputId": "2e8dc3b3-32a8-4766-dfe7-df734142a230",
        "colab": {
          "base_uri": "https://localhost:8080/",
          "height": 134
        }
      },
      "source": [
        "city_vise_year_count.head()"
      ],
      "execution_count": 24,
      "outputs": [
        {
          "output_type": "execute_result",
          "data": {
            "text/plain": [
              "Year\n",
              "2001    31365\n",
              "2002    53721\n",
              "2003    48409\n",
              "2004    34030\n",
              "2005    15788\n",
              "Name: headline_text, dtype: int64"
            ]
          },
          "metadata": {
            "tags": []
          },
          "execution_count": 24
        }
      ]
    },
    {
      "cell_type": "code",
      "metadata": {
        "id": "Psrqm3Prbf-0",
        "outputId": "ed08a72a-897d-4286-8114-edac840f5ea0",
        "colab": {
          "base_uri": "https://localhost:8080/",
          "height": 689
        }
      },
      "source": [
        "fig=plt.figure()\n",
        "\n",
        "a = fig.add_subplot(111,label=\"1\")\n",
        "b = fig.add_subplot(111,label=\"2\", frame_on = False)\n",
        "\n",
        "plt.figure(figsize=(20,10))\n",
        "city_vise_year_count.plot(kind='bar',figsize=(20,10), ax=a,title=\"Most headlines\" ,fontsize = 20)\n",
        "a.set_ylabel('Most headlines in a year',fontsize=20)\n",
        "a.set_xlabel(\"Years\",fontsize = 20)\n",
        "\n",
        "\n",
        "\n",
        "plt.show()"
      ],
      "execution_count": 25,
      "outputs": [
        {
          "output_type": "display_data",
          "data": {
            "image/png": "[encoded data removed]",
            "text/plain": [
              "<Figure size 1440x720 with 2 Axes>"
            ]
          },
          "metadata": {
            "tags": [],
            "needs_background": "light"
          }
        },
        {
          "output_type": "display_data",
          "data": {
            "text/plain": [
              "<Figure size 1440x720 with 0 Axes>"
            ]
          },
          "metadata": {
            "tags": []
          }
        }
      ]
    },
    {
      "cell_type": "markdown",
      "metadata": {
        "id": "Axhlwf7_8QLY"
      },
      "source": [
        "**Observation**: We can find that **2016** has the most news headlines."
      ]
    },
    {
      "cell_type": "markdown",
      "metadata": {
        "id": "sE-W0WWu86JN"
      },
      "source": [
        "### **3. Topic Most Covered**"
      ]
    },
    {
      "cell_type": "code",
      "metadata": {
        "id": "9Jd-vxW5dfkp",
        "outputId": "16ae1acc-fae7-4054-8d2c-62fef704e05b",
        "colab": {
          "base_uri": "https://localhost:8080/",
          "height": 195
        }
      },
      "source": [
        "dataset.head()"
      ],
      "execution_count": 26,
      "outputs": [
        {
          "output_type": "execute_result",
          "data": {
            "text/html": [
              "<div>\n",
              "<style scoped>\n",
              "    .dataframe tbody tr th:only-of-type {\n",
              "        vertical-align: middle;\n",
              "    }\n",
              "\n",
              "    .dataframe tbody tr th {\n",
              "        vertical-align: top;\n",
              "    }\n",
              "\n",
              "    .dataframe thead th {\n",
              "        text-align: right;\n",
              "    }\n",
              "</style>\n",
              "<table border=\"1\" class=\"dataframe\">\n",
              "  <thead>\n",
              "    <tr style=\"text-align: right;\">\n",
              "      <th></th>\n",
              "      <th>publish_date</th>\n",
              "      <th>headline_category</th>\n",
              "      <th>headline_text</th>\n",
              "    </tr>\n",
              "  </thead>\n",
              "  <tbody>\n",
              "    <tr>\n",
              "      <th>0</th>\n",
              "      <td>20010101</td>\n",
              "      <td>sports.wwe</td>\n",
              "      <td>win over cena satisfying but defeating underta...</td>\n",
              "    </tr>\n",
              "    <tr>\n",
              "      <th>1</th>\n",
              "      <td>20010102</td>\n",
              "      <td>unknown</td>\n",
              "      <td>Status quo will not be disturbed at Ayodhya; s...</td>\n",
              "    </tr>\n",
              "    <tr>\n",
              "      <th>2</th>\n",
              "      <td>20010102</td>\n",
              "      <td>unknown</td>\n",
              "      <td>Fissures in Hurriyat over Pak visit</td>\n",
              "    </tr>\n",
              "    <tr>\n",
              "      <th>3</th>\n",
              "      <td>20010102</td>\n",
              "      <td>unknown</td>\n",
              "      <td>America's unwanted heading for India?</td>\n",
              "    </tr>\n",
              "    <tr>\n",
              "      <th>4</th>\n",
              "      <td>20010102</td>\n",
              "      <td>unknown</td>\n",
              "      <td>For bigwigs; it is destination Goa</td>\n",
              "    </tr>\n",
              "  </tbody>\n",
              "</table>\n",
              "</div>"
            ],
            "text/plain": [
              "   publish_date  ...                                      headline_text\n",
              "0      20010101  ...  win over cena satisfying but defeating underta...\n",
              "1      20010102  ...  Status quo will not be disturbed at Ayodhya; s...\n",
              "2      20010102  ...                Fissures in Hurriyat over Pak visit\n",
              "3      20010102  ...              America's unwanted heading for India?\n",
              "4      20010102  ...                 For bigwigs; it is destination Goa\n",
              "\n",
              "[5 rows x 3 columns]"
            ]
          },
          "metadata": {
            "tags": []
          },
          "execution_count": 26
        }
      ]
    },
    {
      "cell_type": "code",
      "metadata": {
        "id": "DkXWcmfY8_nw"
      },
      "source": [
        "new_dataset = dataset.copy()"
      ],
      "execution_count": 27,
      "outputs": []
    },
    {
      "cell_type": "code",
      "metadata": {
        "id": "6Yam0hH29DY7"
      },
      "source": [
        "new_dataset['category'] = new_dataset['headline_category'].str.split('.').map(lambda x: x[0])"
      ],
      "execution_count": 28,
      "outputs": []
    },
    {
      "cell_type": "code",
      "metadata": {
        "id": "tPEzi8wc9SNP",
        "outputId": "cfaa8a22-217d-4ff4-debe-aef023a5eae6",
        "colab": {
          "base_uri": "https://localhost:8080/",
          "height": 195
        }
      },
      "source": [
        "new_dataset.head()"
      ],
      "execution_count": 29,
      "outputs": [
        {
          "output_type": "execute_result",
          "data": {
            "text/html": [
              "<div>\n",
              "<style scoped>\n",
              "    .dataframe tbody tr th:only-of-type {\n",
              "        vertical-align: middle;\n",
              "    }\n",
              "\n",
              "    .dataframe tbody tr th {\n",
              "        vertical-align: top;\n",
              "    }\n",
              "\n",
              "    .dataframe thead th {\n",
              "        text-align: right;\n",
              "    }\n",
              "</style>\n",
              "<table border=\"1\" class=\"dataframe\">\n",
              "  <thead>\n",
              "    <tr style=\"text-align: right;\">\n",
              "      <th></th>\n",
              "      <th>publish_date</th>\n",
              "      <th>headline_category</th>\n",
              "      <th>headline_text</th>\n",
              "      <th>category</th>\n",
              "    </tr>\n",
              "  </thead>\n",
              "  <tbody>\n",
              "    <tr>\n",
              "      <th>0</th>\n",
              "      <td>20010101</td>\n",
              "      <td>sports.wwe</td>\n",
              "      <td>win over cena satisfying but defeating underta...</td>\n",
              "      <td>sports</td>\n",
              "    </tr>\n",
              "    <tr>\n",
              "      <th>1</th>\n",
              "      <td>20010102</td>\n",
              "      <td>unknown</td>\n",
              "      <td>Status quo will not be disturbed at Ayodhya; s...</td>\n",
              "      <td>unknown</td>\n",
              "    </tr>\n",
              "    <tr>\n",
              "      <th>2</th>\n",
              "      <td>20010102</td>\n",
              "      <td>unknown</td>\n",
              "      <td>Fissures in Hurriyat over Pak visit</td>\n",
              "      <td>unknown</td>\n",
              "    </tr>\n",
              "    <tr>\n",
              "      <th>3</th>\n",
              "      <td>20010102</td>\n",
              "      <td>unknown</td>\n",
              "      <td>America's unwanted heading for India?</td>\n",
              "      <td>unknown</td>\n",
              "    </tr>\n",
              "    <tr>\n",
              "      <th>4</th>\n",
              "      <td>20010102</td>\n",
              "      <td>unknown</td>\n",
              "      <td>For bigwigs; it is destination Goa</td>\n",
              "      <td>unknown</td>\n",
              "    </tr>\n",
              "  </tbody>\n",
              "</table>\n",
              "</div>"
            ],
            "text/plain": [
              "   publish_date  ... category\n",
              "0      20010101  ...   sports\n",
              "1      20010102  ...  unknown\n",
              "2      20010102  ...  unknown\n",
              "3      20010102  ...  unknown\n",
              "4      20010102  ...  unknown\n",
              "\n",
              "[5 rows x 4 columns]"
            ]
          },
          "metadata": {
            "tags": []
          },
          "execution_count": 29
        }
      ]
    },
    {
      "cell_type": "markdown",
      "metadata": {
        "id": "3lJK8Bt_-3bg"
      },
      "source": [
        "**3.1 Finding the top most category**"
      ]
    },
    {
      "cell_type": "code",
      "metadata": {
        "id": "vJiWIbJ39WI3"
      },
      "source": [
        "new_dataset_top_categoris = new_dataset.groupby(['category']).agg({'headline_text':'count'}).sort_values(by = 'headline_text',ascending =False)"
      ],
      "execution_count": 30,
      "outputs": []
    },
    {
      "cell_type": "code",
      "metadata": {
        "id": "qYWoW3lP9jv7",
        "outputId": "9ee9241f-93d5-4c54-aa6f-42f5dc064d3d",
        "colab": {
          "base_uri": "https://localhost:8080/",
          "height": 373
        }
      },
      "source": [
        "new_dataset_top_categoris_top = new_dataset_top_categoris.drop(['unknown','tv','top-stories','city','citizen','edit-page','top-headlines','world']).head(10)\n",
        "new_dataset_top_categoris_top"
      ],
      "execution_count": 31,
      "outputs": [
        {
          "output_type": "execute_result",
          "data": {
            "text/html": [
              "<div>\n",
              "<style scoped>\n",
              "    .dataframe tbody tr th:only-of-type {\n",
              "        vertical-align: middle;\n",
              "    }\n",
              "\n",
              "    .dataframe tbody tr th {\n",
              "        vertical-align: top;\n",
              "    }\n",
              "\n",
              "    .dataframe thead th {\n",
              "        text-align: right;\n",
              "    }\n",
              "</style>\n",
              "<table border=\"1\" class=\"dataframe\">\n",
              "  <thead>\n",
              "    <tr style=\"text-align: right;\">\n",
              "      <th></th>\n",
              "      <th>headline_text</th>\n",
              "    </tr>\n",
              "    <tr>\n",
              "      <th>category</th>\n",
              "      <th></th>\n",
              "    </tr>\n",
              "  </thead>\n",
              "  <tbody>\n",
              "    <tr>\n",
              "      <th>india</th>\n",
              "      <td>285619</td>\n",
              "    </tr>\n",
              "    <tr>\n",
              "      <th>entertainment</th>\n",
              "      <td>224877</td>\n",
              "    </tr>\n",
              "    <tr>\n",
              "      <th>business</th>\n",
              "      <td>153876</td>\n",
              "    </tr>\n",
              "    <tr>\n",
              "      <th>sports</th>\n",
              "      <td>129494</td>\n",
              "    </tr>\n",
              "    <tr>\n",
              "      <th>home</th>\n",
              "      <td>77208</td>\n",
              "    </tr>\n",
              "    <tr>\n",
              "      <th>life-style</th>\n",
              "      <td>43370</td>\n",
              "    </tr>\n",
              "    <tr>\n",
              "      <th>tech</th>\n",
              "      <td>37220</td>\n",
              "    </tr>\n",
              "    <tr>\n",
              "      <th>news</th>\n",
              "      <td>13987</td>\n",
              "    </tr>\n",
              "    <tr>\n",
              "      <th>elections</th>\n",
              "      <td>9003</td>\n",
              "    </tr>\n",
              "    <tr>\n",
              "      <th>delhi-times</th>\n",
              "      <td>7356</td>\n",
              "    </tr>\n",
              "  </tbody>\n",
              "</table>\n",
              "</div>"
            ],
            "text/plain": [
              "               headline_text\n",
              "category                    \n",
              "india                 285619\n",
              "entertainment         224877\n",
              "business              153876\n",
              "sports                129494\n",
              "home                   77208\n",
              "life-style             43370\n",
              "tech                   37220\n",
              "news                   13987\n",
              "elections               9003\n",
              "delhi-times             7356"
            ]
          },
          "metadata": {
            "tags": []
          },
          "execution_count": 31
        }
      ]
    },
    {
      "cell_type": "code",
      "metadata": {
        "id": "N3KrnDlf-AxH",
        "outputId": "b8edbb7d-7719-452e-d06f-cf29e0e153f7",
        "colab": {
          "base_uri": "https://localhost:8080/",
          "height": 343
        }
      },
      "source": [
        "new_dataset_top_categoris_top.reset_index(inplace = True)\n",
        "new_dataset_top_categoris_top"
      ],
      "execution_count": 32,
      "outputs": [
        {
          "output_type": "execute_result",
          "data": {
            "text/html": [
              "<div>\n",
              "<style scoped>\n",
              "    .dataframe tbody tr th:only-of-type {\n",
              "        vertical-align: middle;\n",
              "    }\n",
              "\n",
              "    .dataframe tbody tr th {\n",
              "        vertical-align: top;\n",
              "    }\n",
              "\n",
              "    .dataframe thead th {\n",
              "        text-align: right;\n",
              "    }\n",
              "</style>\n",
              "<table border=\"1\" class=\"dataframe\">\n",
              "  <thead>\n",
              "    <tr style=\"text-align: right;\">\n",
              "      <th></th>\n",
              "      <th>category</th>\n",
              "      <th>headline_text</th>\n",
              "    </tr>\n",
              "  </thead>\n",
              "  <tbody>\n",
              "    <tr>\n",
              "      <th>0</th>\n",
              "      <td>india</td>\n",
              "      <td>285619</td>\n",
              "    </tr>\n",
              "    <tr>\n",
              "      <th>1</th>\n",
              "      <td>entertainment</td>\n",
              "      <td>224877</td>\n",
              "    </tr>\n",
              "    <tr>\n",
              "      <th>2</th>\n",
              "      <td>business</td>\n",
              "      <td>153876</td>\n",
              "    </tr>\n",
              "    <tr>\n",
              "      <th>3</th>\n",
              "      <td>sports</td>\n",
              "      <td>129494</td>\n",
              "    </tr>\n",
              "    <tr>\n",
              "      <th>4</th>\n",
              "      <td>home</td>\n",
              "      <td>77208</td>\n",
              "    </tr>\n",
              "    <tr>\n",
              "      <th>5</th>\n",
              "      <td>life-style</td>\n",
              "      <td>43370</td>\n",
              "    </tr>\n",
              "    <tr>\n",
              "      <th>6</th>\n",
              "      <td>tech</td>\n",
              "      <td>37220</td>\n",
              "    </tr>\n",
              "    <tr>\n",
              "      <th>7</th>\n",
              "      <td>news</td>\n",
              "      <td>13987</td>\n",
              "    </tr>\n",
              "    <tr>\n",
              "      <th>8</th>\n",
              "      <td>elections</td>\n",
              "      <td>9003</td>\n",
              "    </tr>\n",
              "    <tr>\n",
              "      <th>9</th>\n",
              "      <td>delhi-times</td>\n",
              "      <td>7356</td>\n",
              "    </tr>\n",
              "  </tbody>\n",
              "</table>\n",
              "</div>"
            ],
            "text/plain": [
              "        category  headline_text\n",
              "0          india         285619\n",
              "1  entertainment         224877\n",
              "2       business         153876\n",
              "3         sports         129494\n",
              "4           home          77208\n",
              "5     life-style          43370\n",
              "6           tech          37220\n",
              "7           news          13987\n",
              "8      elections           9003\n",
              "9    delhi-times           7356"
            ]
          },
          "metadata": {
            "tags": []
          },
          "execution_count": 32
        }
      ]
    },
    {
      "cell_type": "markdown",
      "metadata": {
        "id": "op_1Qiy8-Tdy"
      },
      "source": [
        "**Observation**: We can find that **India, Entertainment and business** are the most categories."
      ]
    },
    {
      "cell_type": "markdown",
      "metadata": {
        "id": "C3rO0JYP-0B3"
      },
      "source": [
        "**3.2 Visualizing**"
      ]
    },
    {
      "cell_type": "code",
      "metadata": {
        "id": "tsvJgGKd-Npv",
        "outputId": "9891f6c5-7b3f-4322-feb9-bcadd9daedb3",
        "colab": {
          "base_uri": "https://localhost:8080/",
          "height": 744
        }
      },
      "source": [
        "plt.figure(figsize=(20,12))\n",
        "plt.bar(new_dataset_top_categoris_top.category, height=new_dataset_top_categoris_top.headline_text)\n",
        "plt.xlabel('Category',fontsize = 20)\n",
        "plt.ylabel('Number of news headlines',fontsize = 20)\n",
        "plt.title('Top 10 Categories',fontsize = 20)\n",
        "plt.show()"
      ],
      "execution_count": 33,
      "outputs": [
        {
          "output_type": "display_data",
          "data": {
            "image/png": "[encoded data removed]",
            "text/plain": [
              "<Figure size 1440x864 with 1 Axes>"
            ]
          },
          "metadata": {
            "tags": [],
            "needs_background": "light"
          }
        }
      ]
    },
    {
      "cell_type": "markdown",
      "metadata": {
        "id": "ZYwmmcjRALti"
      },
      "source": [
        "### **4. Sentimental Analysis**"
      ]
    },
    {
      "cell_type": "markdown",
      "metadata": {
        "id": "bqOM3bRCATDe"
      },
      "source": [
        "**4.1 Sentimental Analysis using TextBlob**"
      ]
    },
    {
      "cell_type": "code",
      "metadata": {
        "id": "1IRdjZxsAJyY"
      },
      "source": [
        "def getAnalysis_polarity(headline):\n",
        "    result = TextBlob(headline)\n",
        "    \n",
        "    if result.sentiment.polarity < 0:\n",
        "        return 'negative'\n",
        "    elif result.sentiment.polarity == 0:\n",
        "        return 'neutral'\n",
        "    else:\n",
        "        return 'positive'"
      ],
      "execution_count": 34,
      "outputs": []
    },
    {
      "cell_type": "code",
      "metadata": {
        "id": "V4Ncc-lnNoJ4"
      },
      "source": [
        "dataset['Result'] = np.array([getAnalysis_polarity(headline)\n",
        "for headline in dataset['headline_text']])"
      ],
      "execution_count": 38,
      "outputs": []
    },
    {
      "cell_type": "code",
      "metadata": {
        "id": "kvv07t-5AneT",
        "outputId": "a1bc4d67-d89f-42d6-b380-ebfba1b5fe59",
        "colab": {
          "base_uri": "https://localhost:8080/",
          "height": 195
        }
      },
      "source": [
        "dataset.head()"
      ],
      "execution_count": 39,
      "outputs": [
        {
          "output_type": "execute_result",
          "data": {
            "text/html": [
              "<div>\n",
              "<style scoped>\n",
              "    .dataframe tbody tr th:only-of-type {\n",
              "        vertical-align: middle;\n",
              "    }\n",
              "\n",
              "    .dataframe tbody tr th {\n",
              "        vertical-align: top;\n",
              "    }\n",
              "\n",
              "    .dataframe thead th {\n",
              "        text-align: right;\n",
              "    }\n",
              "</style>\n",
              "<table border=\"1\" class=\"dataframe\">\n",
              "  <thead>\n",
              "    <tr style=\"text-align: right;\">\n",
              "      <th></th>\n",
              "      <th>publish_date</th>\n",
              "      <th>headline_category</th>\n",
              "      <th>headline_text</th>\n",
              "      <th>Result</th>\n",
              "    </tr>\n",
              "  </thead>\n",
              "  <tbody>\n",
              "    <tr>\n",
              "      <th>0</th>\n",
              "      <td>20010101</td>\n",
              "      <td>sports.wwe</td>\n",
              "      <td>win over cena satisfying but defeating underta...</td>\n",
              "      <td>positive</td>\n",
              "    </tr>\n",
              "    <tr>\n",
              "      <th>1</th>\n",
              "      <td>20010102</td>\n",
              "      <td>unknown</td>\n",
              "      <td>Status quo will not be disturbed at Ayodhya; s...</td>\n",
              "      <td>neutral</td>\n",
              "    </tr>\n",
              "    <tr>\n",
              "      <th>2</th>\n",
              "      <td>20010102</td>\n",
              "      <td>unknown</td>\n",
              "      <td>Fissures in Hurriyat over Pak visit</td>\n",
              "      <td>neutral</td>\n",
              "    </tr>\n",
              "    <tr>\n",
              "      <th>3</th>\n",
              "      <td>20010102</td>\n",
              "      <td>unknown</td>\n",
              "      <td>America's unwanted heading for India?</td>\n",
              "      <td>neutral</td>\n",
              "    </tr>\n",
              "    <tr>\n",
              "      <th>4</th>\n",
              "      <td>20010102</td>\n",
              "      <td>unknown</td>\n",
              "      <td>For bigwigs; it is destination Goa</td>\n",
              "      <td>neutral</td>\n",
              "    </tr>\n",
              "  </tbody>\n",
              "</table>\n",
              "</div>"
            ],
            "text/plain": [
              "   publish_date  ...    Result\n",
              "0      20010101  ...  positive\n",
              "1      20010102  ...   neutral\n",
              "2      20010102  ...   neutral\n",
              "3      20010102  ...   neutral\n",
              "4      20010102  ...   neutral\n",
              "\n",
              "[5 rows x 4 columns]"
            ]
          },
          "metadata": {
            "tags": []
          },
          "execution_count": 39
        }
      ]
    },
    {
      "cell_type": "markdown",
      "metadata": {
        "id": "OxUGgY_uAulQ"
      },
      "source": [
        "**4.2 Categoring the Variables**"
      ]
    },
    {
      "cell_type": "code",
      "metadata": {
        "id": "R4B6kSx3Aoxs"
      },
      "source": [
        "summary = dataset.groupby(['Result']).agg({'headline_text' : 'count'})"
      ],
      "execution_count": 40,
      "outputs": []
    },
    {
      "cell_type": "markdown",
      "metadata": {
        "id": "3hGpj9uXA_kE"
      },
      "source": [
        "**4.3 Visualizing the summary**"
      ]
    },
    {
      "cell_type": "code",
      "metadata": {
        "id": "sqK3vc9kA7tC",
        "outputId": "bfcd016f-4e35-41db-d030-54cb05ebb60b",
        "colab": {
          "base_uri": "https://localhost:8080/",
          "height": 466
        }
      },
      "source": [
        "plt.figure(figsize = (8,8))\n",
        "summary['headline_text'].plot.pie(autopct = '%1.1f%%')\n",
        "plt.show()"
      ],
      "execution_count": 41,
      "outputs": [
        {
          "output_type": "display_data",
          "data": {
            "image/png": "[encoded data removed]",
            "text/plain": [
              "<Figure size 576x576 with 1 Axes>"
            ]
          },
          "metadata": {
            "tags": []
          }
        }
      ]
    },
    {
      "cell_type": "code",
      "metadata": {
        "id": "tHLB_NazBPeW"
      },
      "source": [
        "negative = (summary.loc['negative'] / len(dataset))*100\n",
        "neutral = (summary.loc['neutral'] / len(dataset))*100\n",
        "positive = (summary.loc['positive'] / len(dataset))*100"
      ],
      "execution_count": 44,
      "outputs": []
    },
    {
      "cell_type": "code",
      "metadata": {
        "id": "m4ewKjELXQxw",
        "outputId": "1c538603-1858-4c9c-cdba-e7270affe622",
        "colab": {
          "base_uri": "https://localhost:8080/",
          "height": 185
        }
      },
      "source": [
        "print(' Positive Headlines: ' , positive )\n",
        "print('\\n\\n Negative Headlines: ' ,negative )\n",
        "print('\\n\\n Neutral Headlines: ' , str(neutral))"
      ],
      "execution_count": 46,
      "outputs": [
        {
          "output_type": "stream",
          "text": [
            " Positive Headlines:  headline_text    18.11792\n",
            "Name: positive, dtype: float64\n",
            "\n",
            "\n",
            " Negative Headlines:  headline_text    12.076834\n",
            "Name: negative, dtype: float64\n",
            "\n",
            "\n",
            " Neutral Headlines:  headline_text    69.805245\n",
            "Name: neutral, dtype: float64\n"
          ],
          "name": "stdout"
        }
      ]
    },
    {
      "cell_type": "markdown",
      "metadata": {
        "id": "oxAYTtezXlxu"
      },
      "source": [
        "**Conclusion**: We can observe that there are most of neutral headlines overall"
      ]
    },
    {
      "cell_type": "code",
      "metadata": {
        "id": "QyspViYCXbxy"
      },
      "source": [
        ""
      ],
      "execution_count": null,
      "outputs": []
    }
  ]
}